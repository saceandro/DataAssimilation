{
 "cells": [
  {
   "cell_type": "markdown",
   "metadata": {},
   "source": [
    "MLH1がドライバーとなると、hyper mutator になる\n",
    "\n",
    "メチル化が高いと、hyper mutatorの傾向がある\n",
    "\n",
    "\n",
    "\n",
    "プロテオミクス技術\n",
    "\n",
    "従来：ショットガン法とターゲット法\n",
    "\n",
    "iMPAQT法\n",
    "全タンパク精密定量\n",
    "networkの制御点にあたるタンパク質は存在量が少ない\n",
    "\n",
    "Cancer: Aerobic glycolysis\n",
    "\n",
    "がん代謝はある代謝状態に収束している（適応？ clonal evolutionの結果？）\n",
    "\n",
    "Cancerでは、有酸素でもAerobicな代謝をする。\n",
    "Warburg effect simulation (Normal, Cancer 数理モデル)\n",
    "\n",
    "PFK-M, LDH-Bの過剰発現が、Warburg effectの十分条件であることがわかった\n",
    "また、それらが高発現していてもがん細胞ではないので、Warburg effectはがんの結果であって原因でないことが示された\n",
    "\n",
    "脂肪酸合成系\n",
    "\n",
    "がん代謝では、carbonをmaterialとして使っている。\n",
    "Warburg effectと言われている変化だけでなく、Fatty acid synthesis, DNA synthesisも変わっており、代謝全体の構造の変化であった。\n",
    "（通常細胞ではcarbonはfuel）\n",
    "\n",
    "\n",
    "第二のワールブルグ効果 Glnの流れ\n",
    "GLS1, PPAT\n",
    "\n",
    "PPATで核酸合成系に窒素を流すと、がんの増殖率が上昇する\n",
    "\n",
    "PPAT and GLS1 are related to cancer prognosis\n",
    "治療標的にもなりうるのではないか\n",
    "\n",
    "\n",
    "Human Genome Project -> Human Proteome Project -> Systems Biology\n",
    "\n",
    "\n",
    "\n",
    "鶴岡\n",
    "大腸がんマルチオミクス\n",
    "\n",
    "colon cancer\n",
    "APC -> KRAS -> P53\n",
    "\n",
    "Adenoma, Carcinoma共に、\n",
    "ミトコンドリア膨潤化・マトリックス消失\n",
    "\n"
   ]
  }
 ],
 "metadata": {
  "kernelspec": {
   "display_name": "Python 3",
   "language": "python",
   "name": "python3"
  },
  "language_info": {
   "codemirror_mode": {
    "name": "ipython",
    "version": 3
   },
   "file_extension": ".py",
   "mimetype": "text/x-python",
   "name": "python",
   "nbconvert_exporter": "python",
   "pygments_lexer": "ipython3",
   "version": "3.6.3"
  }
 },
 "nbformat": 4,
 "nbformat_minor": 2
}

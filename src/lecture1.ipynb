{
 "cells": [
  {
   "cell_type": "markdown",
   "metadata": {},
   "source": [
    "# データ同化：力学系理論＋統計数理\n",
    "\n",
    "Lorenz96モデルはtoy modelだが、ちゃんとやればLorenz96モデルを使った論文が書ける\n",
    "\n",
    "## Lorenz96 40変数 (N=40)\n",
    "\n",
    "$\\frac {dx_{i}}{dt}=(x_{i+1}-x_{i-2})x_{i-1}-x_{i}+F \\; (i = 1, \\cdots, N)$\n",
    "\n",
    "$(x_{i+1}-x_{i-2})x_{i-1}$：移流 $-\\frac{du}{dx}u$を離散化したもの\n",
    "\n",
    "$-x_i$ : 散逸\n",
    "\n",
    "$F$：外力\n",
    "\n",
    "非平衡散逸系である"
   ]
  },
  {
   "cell_type": "markdown",
   "metadata": {},
   "source": [
    "## Fixed point\n",
    "\n",
    "$F=0$なら、$x=0$\n",
    "\n",
    "$F=0 \\to x=0$がアトラクタ（散逸が効いて全て0になる）"
   ]
  },
  {
   "cell_type": "markdown",
   "metadata": {},
   "source": [
    "## Lyapnov指数\n",
    "\n",
    "アトラクタ上の点 $x\\in \\mathcal{R}^N$\n",
    "\n",
    "$||M(x+\\delta x) - M(x)||$\n",
    "\n",
    "$x$をアトラクタ上のあらゆるところから持ってくる\n",
    "\n",
    "カオス <-> Lyapnov指数が正"
   ]
  },
  {
   "cell_type": "code",
   "execution_count": null,
   "metadata": {
    "collapsed": true
   },
   "outputs": [],
   "source": []
  }
 ],
 "metadata": {
  "kernelspec": {
   "display_name": "Python 3",
   "language": "python",
   "name": "python3"
  },
  "language_info": {
   "codemirror_mode": {
    "name": "ipython",
    "version": 3
   },
   "file_extension": ".py",
   "mimetype": "text/x-python",
   "name": "python",
   "nbconvert_exporter": "python",
   "pygments_lexer": "ipython3",
   "version": "3.6.3"
  }
 },
 "nbformat": 4,
 "nbformat_minor": 2
}

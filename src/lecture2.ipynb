{
 "cells": [
  {
   "cell_type": "markdown",
   "metadata": {},
   "source": [
    "保存系では、アトラクタ内の体積は不変\n",
    "\n",
    "散逸系では、アトラクタ内の体積が減少\n",
    "ローレンツのバタフライモデルでは、体積は減少しているが、予報値は幅広く分散することがある\n",
    "\n",
    "innovation = observation departure = D値（気象庁のみで用いられる用語）\n",
    "\n",
    "もう一度nature runを計算して、アトラクタ上のランダムな点を取ってきてxの初期値\n",
    "アトラクタ上の点をランダムに取ってきてnatural varianceを取ってPの初期値\n",
    "として、そこからデータ同化してやるといい。（ただし、逐次更新されて行くので、適当でも大きな問題はない。）\n",
    "\n",
    "$P_{0}^{a} = \\alpha I$ (但し、$\\alpha$はnatural varianceの自乗)\n",
    "\n",
    "観測点を間引く3D-Varでは、観測点を間引いたデータからNMC法で作る。すると、観測点が少ない変数は予報誤差が大きくなるような、適切なBになる。\n",
    "\n",
    "ローレンツモデルのFを推定したいと思ったら、EnKFをやるしかない。各Ensemble memberが異なるFを持っているとして時間発展。\n",
    "\n",
    "\n",
    "\n",
    "衛星GOSATに観測されたSIFと光合成量\n",
    "SIFは生態系光合成量GPPを代表する\n",
    "しかし、その間の関係を詳細に解釈するモデルがない\n",
    "\n",
    "GOSATは日本のものだが、日本人が解析しなかったのでNASAにやられてしまった。\n",
    "第2号のデータが間も無く出るので、ぜひ日本人に解析をt\n",
    "\n",
    "個葉光合成プロセスモデル\n",
    "データ同化を使ってモデルを推定\n",
    "(現在は生態学には大雑把なモデルしかない。)"
   ]
  }
 ],
 "metadata": {
  "kernelspec": {
   "display_name": "Python 3",
   "language": "python",
   "name": "python3"
  },
  "language_info": {
   "codemirror_mode": {
    "name": "ipython",
    "version": 3
   },
   "file_extension": ".py",
   "mimetype": "text/x-python",
   "name": "python",
   "nbconvert_exporter": "python",
   "pygments_lexer": "ipython3",
   "version": "3.6.3"
  }
 },
 "nbformat": 4,
 "nbformat_minor": 2
}
